{
 "cells": [
  {
   "attachments": {},
   "cell_type": "markdown",
   "metadata": {},
   "source": [
    "# その他"
   ]
  },
  {
   "attachments": {},
   "cell_type": "markdown",
   "metadata": {},
   "source": [
    "## path関連"
   ]
  },
  {
   "attachments": {},
   "cell_type": "markdown",
   "metadata": {},
   "source": [
    "## glob"
   ]
  },
  {
   "cell_type": "code",
   "execution_count": 1,
   "metadata": {},
   "outputs": [],
   "source": [
    "# globのインポート\n",
    "from glob import glob\n",
    "\n",
    "#その他のライブラリのインポート\n",
    "import numpy as np\n",
    "import pandas as pd\n",
    "import matplotlib.pyplot as plt\n",
    "import seaborn as sns\n",
    "%matplotlib inline"
   ]
  },
  {
   "cell_type": "code",
   "execution_count": 2,
   "metadata": {},
   "outputs": [
    {
     "data": {
      "text/plain": [
       "['OpenCV.ipynb',\n",
       " 'Seaborn.ipynb',\n",
       " 'その他.ipynb',\n",
       " 'sample_dict.npy',\n",
       " 'Pandas.ipynb',\n",
       " 'saved_seaborn.png',\n",
       " 'sample_ndarray.npy',\n",
       " 'Matplotlib.ipynb',\n",
       " 'public-covid-data',\n",
       " 'cropped_lenna_rgb.png',\n",
       " 'cropped_lenna.png',\n",
       " 'datasets',\n",
       " 'NumPy.ipynb',\n",
       " 'Pythonの基本.ipynb',\n",
       " 'outputs']"
      ]
     },
     "execution_count": 2,
     "metadata": {},
     "output_type": "execute_result"
    }
   ],
   "source": [
    "#引数のパターンにマッチするファイルパスのリストを取得\n",
    "# * : ワイルドカード(0文字以上の任意の文字列)\n",
    "glob('*')"
   ]
  },
  {
   "cell_type": "code",
   "execution_count": 4,
   "metadata": {},
   "outputs": [
    {
     "data": {
      "text/plain": [
       "'saved_seaborn.png'"
      ]
     },
     "execution_count": 4,
     "metadata": {},
     "output_type": "execute_result"
    }
   ],
   "source": [
    "# .pngのみ\n",
    "glob('*.png')"
   ]
  },
  {
   "cell_type": "code",
   "execution_count": 10,
   "metadata": {},
   "outputs": [
    {
     "data": {
      "text/plain": [
       "['public-covid-data/rp_msk/8.nii.gz',\n",
       " 'public-covid-data/rp_msk/3.nii.gz',\n",
       " 'public-covid-data/rp_msk/2.nii.gz',\n",
       " 'public-covid-data/rp_msk/5.nii.gz',\n",
       " 'public-covid-data/rp_msk/4.nii.gz',\n",
       " 'public-covid-data/rp_msk/9.nii.gz',\n",
       " 'public-covid-data/rp_msk/1.nii.gz',\n",
       " 'public-covid-data/rp_msk/6.nii.gz',\n",
       " 'public-covid-data/rp_msk/7.nii.gz',\n",
       " 'public-covid-data/rp_im/8.nii.gz',\n",
       " 'public-covid-data/rp_im/3.nii.gz',\n",
       " 'public-covid-data/rp_im/2.nii.gz',\n",
       " 'public-covid-data/rp_im/5.nii.gz',\n",
       " 'public-covid-data/rp_im/4.nii.gz',\n",
       " 'public-covid-data/rp_im/9.nii.gz',\n",
       " 'public-covid-data/rp_im/1.nii.gz',\n",
       " 'public-covid-data/rp_im/6.nii.gz',\n",
       " 'public-covid-data/rp_im/7.nii.gz']"
      ]
     },
     "execution_count": 10,
     "metadata": {},
     "output_type": "execute_result"
    }
   ],
   "source": [
    "# public-covid-data以下のフォルダ一覧\n",
    "glob('public-covid-data/*/*')"
   ]
  },
  {
   "cell_type": "code",
   "execution_count": 12,
   "metadata": {},
   "outputs": [
    {
     "data": {
      "text/plain": [
       "['public-covid-data/rp_im/8.nii.gz',\n",
       " 'public-covid-data/rp_im/5.nii.gz',\n",
       " 'public-covid-data/rp_im/9.nii.gz',\n",
       " 'public-covid-data/rp_im/6.nii.gz',\n",
       " 'public-covid-data/rp_im/7.nii.gz']"
      ]
     },
     "execution_count": 12,
     "metadata": {},
     "output_type": "execute_result"
    }
   ],
   "source": [
    "# 5~9で始まるファイルのみ\n",
    "glob('public-covid-data/rp_im/[5-9]*')"
   ]
  },
  {
   "attachments": {},
   "cell_type": "markdown",
   "metadata": {},
   "source": [
    "## os モジュールと pathlib モジュール"
   ]
  },
  {
   "cell_type": "code",
   "execution_count": 17,
   "metadata": {},
   "outputs": [],
   "source": [
    "# os モジュールと pathlib.Pathのインポート\n",
    "import os\n",
    "from pathlib import Path"
   ]
  },
  {
   "cell_type": "code",
   "execution_count": 20,
   "metadata": {},
   "outputs": [],
   "source": [
    "#pathのインスタンス作成\n",
    "p = Path('public-covid-data')"
   ]
  },
  {
   "cell_type": "code",
   "execution_count": 21,
   "metadata": {},
   "outputs": [
    {
     "data": {
      "text/plain": [
       "PosixPath('public-covid-data')"
      ]
     },
     "execution_count": 21,
     "metadata": {},
     "output_type": "execute_result"
    }
   ],
   "source": [
    "p"
   ]
  },
  {
   "cell_type": "code",
   "execution_count": 27,
   "metadata": {},
   "outputs": [
    {
     "data": {
      "text/plain": [
       "[PosixPath('public-covid-data/rp_msk'), PosixPath('public-covid-data/rp_im')]"
      ]
     },
     "execution_count": 27,
     "metadata": {},
     "output_type": "execute_result"
    }
   ],
   "source": [
    "list(p.iterdir())"
   ]
  },
  {
   "cell_type": "code",
   "execution_count": 32,
   "metadata": {},
   "outputs": [
    {
     "data": {
      "text/plain": [
       "[PosixPath('public-covid-data/rp_im/8.nii.gz'),\n",
       " PosixPath('public-covid-data/rp_im/3.nii.gz'),\n",
       " PosixPath('public-covid-data/rp_im/2.nii.gz'),\n",
       " PosixPath('public-covid-data/rp_im/5.nii.gz'),\n",
       " PosixPath('public-covid-data/rp_im/4.nii.gz'),\n",
       " PosixPath('public-covid-data/rp_im/9.nii.gz'),\n",
       " PosixPath('public-covid-data/rp_im/1.nii.gz'),\n",
       " PosixPath('public-covid-data/rp_im/6.nii.gz'),\n",
       " PosixPath('public-covid-data/rp_im/7.nii.gz')]"
      ]
     },
     "execution_count": 32,
     "metadata": {},
     "output_type": "execute_result"
    }
   ],
   "source": [
    "# rp_im以下のpathオブジェクト\n",
    "sub_p = list(p.iterdir())[1]\n",
    "list(sub_p.iterdir())\n"
   ]
  },
  {
   "cell_type": "code",
   "execution_count": 33,
   "metadata": {},
   "outputs": [
    {
     "data": {
      "text/plain": [
       "[PosixPath('public-covid-data/rp_im/8.nii.gz'),\n",
       " PosixPath('public-covid-data/rp_im/9.nii.gz'),\n",
       " PosixPath('public-covid-data/rp_im/6.nii.gz'),\n",
       " PosixPath('public-covid-data/rp_im/7.nii.gz')]"
      ]
     },
     "execution_count": 33,
     "metadata": {},
     "output_type": "execute_result"
    }
   ],
   "source": [
    "# p.glob()でパターンでマッチングできる\n",
    "path = list(sub_p.glob('*[6-9]*'))\n",
    "path"
   ]
  },
  {
   "cell_type": "code",
   "execution_count": 38,
   "metadata": {},
   "outputs": [
    {
     "data": {
      "text/plain": [
       "PosixPath('public-covid-data/rp_im/8.nii.gz')"
      ]
     },
     "execution_count": 38,
     "metadata": {},
     "output_type": "execute_result"
    }
   ],
   "source": [
    "target_file"
   ]
  },
  {
   "cell_type": "code",
   "execution_count": 37,
   "metadata": {},
   "outputs": [
    {
     "name": "stdout",
     "output_type": "stream",
     "text": [
      "public-covid-data/rp_im 8.nii.gz\n"
     ]
    }
   ],
   "source": [
    "target_file = path[0]\n",
    "# head(フォルダパス)とtail(ファイル名)にsplit\n",
    "folder_p, file_name = os.path.split(target_file)\n",
    "print(folder_p, file_name)"
   ]
  },
  {
   "cell_type": "code",
   "execution_count": 39,
   "metadata": {},
   "outputs": [
    {
     "data": {
      "text/plain": [
       "'public-covid-data/rp_im/test.txt'"
      ]
     },
     "execution_count": 39,
     "metadata": {},
     "output_type": "execute_result"
    }
   ],
   "source": [
    "# フォルダパスとファイル名を連結させる\n",
    "new_file_path = os.path.join(folder_p, 'test.txt')\n",
    "new_file_path"
   ]
  },
  {
   "cell_type": "code",
   "execution_count": 41,
   "metadata": {},
   "outputs": [
    {
     "data": {
      "text/plain": [
       "'public-covid-data/new_folder'"
      ]
     },
     "execution_count": 41,
     "metadata": {},
     "output_type": "execute_result"
    }
   ],
   "source": [
    "# フォルダを作成する\n",
    "\n",
    "# パスの文字列を構成\n",
    "p = Path('public-covid-data')\n",
    "new_folder_name = 'new_folder'\n",
    "new_folder_path = os.path.join(p, new_folder_name)\n",
    "new_folder_path"
   ]
  },
  {
   "cell_type": "code",
   "execution_count": 42,
   "metadata": {},
   "outputs": [
    {
     "data": {
      "text/plain": [
       "False"
      ]
     },
     "execution_count": 42,
     "metadata": {},
     "output_type": "execute_result"
    }
   ],
   "source": [
    "# すでに存在するか確認\n",
    "os.path.exists(new_folder_path)"
   ]
  },
  {
   "cell_type": "code",
   "execution_count": 15,
   "metadata": {},
   "outputs": [],
   "source": [
    "# なければ作成\n",
    "if not os.path.exists(new_folder_path):\n",
    "    # 指定したフォルダを作成する\n",
    "    os.makedirs(new_folder_path)"
   ]
  },
  {
   "cell_type": "code",
   "execution_count": 43,
   "metadata": {},
   "outputs": [],
   "source": [
    "os.makedirs(new_folder_path, exist_ok=True)"
   ]
  },
  {
   "attachments": {},
   "cell_type": "markdown",
   "metadata": {},
   "source": [
    "## tqdm"
   ]
  },
  {
   "cell_type": "code",
   "execution_count": 44,
   "metadata": {},
   "outputs": [],
   "source": [
    "# import \n",
    "from tqdm import tqdm"
   ]
  },
  {
   "cell_type": "code",
   "execution_count": 58,
   "metadata": {},
   "outputs": [
    {
     "name": "stdout",
     "output_type": "stream",
     "text": [
      "49999995000000\n",
      "it took: 1.0472629070281982\n"
     ]
    }
   ],
   "source": [
    "# 1秒ほどかかるループ処理\n",
    "import time\n",
    "before = time.time()\n",
    "sum_ = 0\n",
    "for i in range(int(1e7)):\n",
    "    sum_ += i\n",
    "print(sum)\n",
    "after = time.time()\n",
    "print('it took: {}'.format(after - before))"
   ]
  },
  {
   "cell_type": "code",
   "execution_count": 60,
   "metadata": {},
   "outputs": [
    {
     "name": "stderr",
     "output_type": "stream",
     "text": [
      "100%|██████████| 10000000/10000000 [00:02<00:00, 3888614.20it/s]\n"
     ]
    }
   ],
   "source": [
    "# tqdmの戻り値をそのままfor文で回す\n",
    "sum = 0\n",
    "for i in tqdm(range(int(1e7)), position=0):\n",
    "    sum += i"
   ]
  },
  {
   "cell_type": "code",
   "execution_count": 94,
   "metadata": {},
   "outputs": [
    {
     "data": {
      "text/html": [
       "<div>\n",
       "<style scoped>\n",
       "    .dataframe tbody tr th:only-of-type {\n",
       "        vertical-align: middle;\n",
       "    }\n",
       "\n",
       "    .dataframe tbody tr th {\n",
       "        vertical-align: top;\n",
       "    }\n",
       "\n",
       "    .dataframe thead th {\n",
       "        text-align: right;\n",
       "    }\n",
       "</style>\n",
       "<table border=\"1\" class=\"dataframe\">\n",
       "  <thead>\n",
       "    <tr style=\"text-align: right;\">\n",
       "      <th></th>\n",
       "      <th>path_msk</th>\n",
       "      <th>filename</th>\n",
       "      <th>path_im</th>\n",
       "    </tr>\n",
       "  </thead>\n",
       "  <tbody>\n",
       "    <tr>\n",
       "      <th>0</th>\n",
       "      <td>public-covid-data/rp_msk/8.nii.gz</td>\n",
       "      <td>8.nii.gz</td>\n",
       "      <td>public-covid-data/rp_im/8.nii.gz</td>\n",
       "    </tr>\n",
       "    <tr>\n",
       "      <th>1</th>\n",
       "      <td>public-covid-data/rp_msk/3.nii.gz</td>\n",
       "      <td>3.nii.gz</td>\n",
       "      <td>public-covid-data/rp_im/3.nii.gz</td>\n",
       "    </tr>\n",
       "    <tr>\n",
       "      <th>2</th>\n",
       "      <td>public-covid-data/rp_msk/2.nii.gz</td>\n",
       "      <td>2.nii.gz</td>\n",
       "      <td>public-covid-data/rp_im/2.nii.gz</td>\n",
       "    </tr>\n",
       "    <tr>\n",
       "      <th>3</th>\n",
       "      <td>public-covid-data/rp_msk/5.nii.gz</td>\n",
       "      <td>5.nii.gz</td>\n",
       "      <td>public-covid-data/rp_im/5.nii.gz</td>\n",
       "    </tr>\n",
       "    <tr>\n",
       "      <th>4</th>\n",
       "      <td>public-covid-data/rp_msk/4.nii.gz</td>\n",
       "      <td>4.nii.gz</td>\n",
       "      <td>public-covid-data/rp_im/4.nii.gz</td>\n",
       "    </tr>\n",
       "    <tr>\n",
       "      <th>5</th>\n",
       "      <td>public-covid-data/rp_msk/9.nii.gz</td>\n",
       "      <td>9.nii.gz</td>\n",
       "      <td>public-covid-data/rp_im/9.nii.gz</td>\n",
       "    </tr>\n",
       "    <tr>\n",
       "      <th>6</th>\n",
       "      <td>public-covid-data/rp_msk/1.nii.gz</td>\n",
       "      <td>1.nii.gz</td>\n",
       "      <td>public-covid-data/rp_im/1.nii.gz</td>\n",
       "    </tr>\n",
       "    <tr>\n",
       "      <th>7</th>\n",
       "      <td>public-covid-data/rp_msk/6.nii.gz</td>\n",
       "      <td>6.nii.gz</td>\n",
       "      <td>public-covid-data/rp_im/6.nii.gz</td>\n",
       "    </tr>\n",
       "    <tr>\n",
       "      <th>8</th>\n",
       "      <td>public-covid-data/rp_msk/7.nii.gz</td>\n",
       "      <td>7.nii.gz</td>\n",
       "      <td>public-covid-data/rp_im/7.nii.gz</td>\n",
       "    </tr>\n",
       "  </tbody>\n",
       "</table>\n",
       "</div>"
      ],
      "text/plain": [
       "                            path_msk  filename  \\\n",
       "0  public-covid-data/rp_msk/8.nii.gz  8.nii.gz   \n",
       "1  public-covid-data/rp_msk/3.nii.gz  3.nii.gz   \n",
       "2  public-covid-data/rp_msk/2.nii.gz  2.nii.gz   \n",
       "3  public-covid-data/rp_msk/5.nii.gz  5.nii.gz   \n",
       "4  public-covid-data/rp_msk/4.nii.gz  4.nii.gz   \n",
       "5  public-covid-data/rp_msk/9.nii.gz  9.nii.gz   \n",
       "6  public-covid-data/rp_msk/1.nii.gz  1.nii.gz   \n",
       "7  public-covid-data/rp_msk/6.nii.gz  6.nii.gz   \n",
       "8  public-covid-data/rp_msk/7.nii.gz  7.nii.gz   \n",
       "\n",
       "                            path_im  \n",
       "0  public-covid-data/rp_im/8.nii.gz  \n",
       "1  public-covid-data/rp_im/3.nii.gz  \n",
       "2  public-covid-data/rp_im/2.nii.gz  \n",
       "3  public-covid-data/rp_im/5.nii.gz  \n",
       "4  public-covid-data/rp_im/4.nii.gz  \n",
       "5  public-covid-data/rp_im/9.nii.gz  \n",
       "6  public-covid-data/rp_im/1.nii.gz  \n",
       "7  public-covid-data/rp_im/6.nii.gz  \n",
       "8  public-covid-data/rp_im/7.nii.gz  "
      ]
     },
     "execution_count": 94,
     "metadata": {},
     "output_type": "execute_result"
    }
   ],
   "source": [
    "# データ数が出てこない時はtotal引数を使う\n",
    "# pubic-covid-data配下のpath情報を格納したDataFrameを作成\n",
    "# filename(id), im_path, msk_path\n",
    "p = Path('public-covid-data')\n",
    "df_list = []\n",
    "for folder in p.iterdir():\n",
    "    path_list = [p.as_posix() for p in list(folder.iterdir())]\n",
    "    file_list = [os.path.split(p)[1] for p in list(folder.iterdir())]\n",
    "    df_list.append(pd.DataFrame({'path': path_list, 'filename': file_list}))\n",
    "df = df_list[0].merge(df_list[1], on='filename', suffixes=('_msk', '_im'))    \n",
    "df"
   ]
  },
  {
   "cell_type": "code",
   "execution_count": 95,
   "metadata": {},
   "outputs": [
    {
     "name": "stdout",
     "output_type": "stream",
     "text": [
      "<generator object Path.iterdir at 0x7f393e1f1450>\n",
      "<generator object Path.iterdir at 0x7f393ce17c50>\n"
     ]
    }
   ],
   "source": [
    "p = Path('public-covid-data')\n",
    "for folder in p.iterdir():\n",
    "    print(folder.iterdir())\n"
   ]
  },
  {
   "cell_type": "code",
   "execution_count": 83,
   "metadata": {},
   "outputs": [
    {
     "name": "stderr",
     "output_type": "stream",
     "text": [
      "100%|██████████| 9/9 [00:00<00:00, 1823.17it/s]"
     ]
    },
    {
     "name": "stdout",
     "output_type": "stream",
     "text": [
      "image path for public-covid-data/rp_msk/8.nii.gz is here: 8.nii.gz\n",
      "image path for public-covid-data/rp_msk/3.nii.gz is here: 3.nii.gz\n",
      "image path for public-covid-data/rp_msk/2.nii.gz is here: 2.nii.gz\n",
      "image path for public-covid-data/rp_msk/5.nii.gz is here: 5.nii.gz\n",
      "image path for public-covid-data/rp_msk/4.nii.gz is here: 4.nii.gz\n",
      "image path for public-covid-data/rp_msk/9.nii.gz is here: 9.nii.gz\n",
      "image path for public-covid-data/rp_msk/1.nii.gz is here: 1.nii.gz\n",
      "image path for public-covid-data/rp_msk/6.nii.gz is here: 6.nii.gz\n",
      "image path for public-covid-data/rp_msk/7.nii.gz is here: 7.nii.gz\n"
     ]
    },
    {
     "name": "stderr",
     "output_type": "stream",
     "text": [
      "\n"
     ]
    }
   ],
   "source": [
    "for idx, row in tqdm(df.iterrows(), total=len(df)):\n",
    "    print('image path for {} is here: {}'.format(row['path_im'], row['filename']))"
   ]
  },
  {
   "attachments": {},
   "cell_type": "markdown",
   "metadata": {},
   "source": [
    "## nibabel"
   ]
  },
  {
   "cell_type": "code",
   "execution_count": 84,
   "metadata": {},
   "outputs": [],
   "source": [
    "# インポート\n",
    "import nibabel as nib"
   ]
  },
  {
   "cell_type": "code",
   "execution_count": 98,
   "metadata": {},
   "outputs": [
    {
     "data": {
      "text/plain": [
       "(418, 630, 630)"
      ]
     },
     "execution_count": 98,
     "metadata": {},
     "output_type": "execute_result"
    }
   ],
   "source": [
    "path = df['path_im'].iloc[1]\n",
    "# loadしてnumpy arrayを取り出す\n",
    "def load_nifti(nifti_path):\n",
    "    im_nifti = nib.load(nifti_path)\n",
    "    data = im_nifti.get_fdata()\n",
    "    data = np.transpose(data)\n",
    "    return data\n",
    "data = load_nifti(path)\n",
    "data.shape"
   ]
  },
  {
   "cell_type": "code",
   "execution_count": 105,
   "metadata": {},
   "outputs": [
    {
     "data": {
      "text/plain": [
       "<matplotlib.image.AxesImage at 0x7f393c332e90>"
      ]
     },
     "execution_count": 105,
     "metadata": {},
     "output_type": "execute_result"
    },
    {
     "data": {
      "image/png": "[encoded data removed]",
      "text/plain": [
       "<Figure size 432x288 with 1 Axes>"
      ]
     },
     "metadata": {
      "needs_background": "light"
     },
     "output_type": "display_data"
    }
   ],
   "source": [
    "plt.imshow(data[122, :, :], cmap='gray')"
   ]
  },
  {
   "cell_type": "code",
   "execution_count": 109,
   "metadata": {},
   "outputs": [
    {
     "data": {
      "text/plain": [
       "(39, 630, 630)"
      ]
     },
     "execution_count": 109,
     "metadata": {},
     "output_type": "execute_result"
    }
   ],
   "source": [
    "msk_path = df['path_msk'].iloc[2]\n",
    "msk = load_nifti(msk_path)\n",
    "msk.shape"
   ]
  },
  {
   "cell_type": "code",
   "execution_count": 112,
   "metadata": {},
   "outputs": [
    {
     "data": {
      "text/plain": [
       "<matplotlib.image.AxesImage at 0x7f393c22fb90>"
      ]
     },
     "execution_count": 112,
     "metadata": {},
     "output_type": "execute_result"
    },
    {
     "data": {
      "image/png": "[encoded data removed]",
      "text/plain": [
       "<Figure size 432x288 with 1 Axes>"
      ]
     },
     "metadata": {
      "needs_background": "light"
     },
     "output_type": "display_data"
    }
   ],
   "source": [
    "plt.imshow(msk[10, :, :])"
   ]
  },
  {
   "cell_type": "code",
   "execution_count": 114,
   "metadata": {},
   "outputs": [
    {
     "data": {
      "text/plain": [
       "array([0., 1., 2.])"
      ]
     },
     "execution_count": 114,
     "metadata": {},
     "output_type": "execute_result"
    }
   ],
   "source": [
    "np.unique(msk[10, :, :])"
   ]
  },
  {
   "cell_type": "code",
   "execution_count": 115,
   "metadata": {},
   "outputs": [],
   "source": [
    "# とりあえずslice_numカラムを追加\n",
    "df['slice_num'] = np.nan #np.nanはfloatなので，slice_numの値は全てfloatになることに注意"
   ]
  },
  {
   "cell_type": "code",
   "execution_count": 118,
   "metadata": {},
   "outputs": [
    {
     "data": {
      "text/html": [
       "<div>\n",
       "<style scoped>\n",
       "    .dataframe tbody tr th:only-of-type {\n",
       "        vertical-align: middle;\n",
       "    }\n",
       "\n",
       "    .dataframe tbody tr th {\n",
       "        vertical-align: top;\n",
       "    }\n",
       "\n",
       "    .dataframe thead th {\n",
       "        text-align: right;\n",
       "    }\n",
       "</style>\n",
       "<table border=\"1\" class=\"dataframe\">\n",
       "  <thead>\n",
       "    <tr style=\"text-align: right;\">\n",
       "      <th></th>\n",
       "      <th>path_msk</th>\n",
       "      <th>filename</th>\n",
       "      <th>path_im</th>\n",
       "      <th>slice_num</th>\n",
       "    </tr>\n",
       "  </thead>\n",
       "  <tbody>\n",
       "    <tr>\n",
       "      <th>0</th>\n",
       "      <td>public-covid-data/rp_msk/8.nii.gz</td>\n",
       "      <td>8.nii.gz</td>\n",
       "      <td>public-covid-data/rp_im/8.nii.gz</td>\n",
       "      <td>45.0</td>\n",
       "    </tr>\n",
       "    <tr>\n",
       "      <th>1</th>\n",
       "      <td>public-covid-data/rp_msk/3.nii.gz</td>\n",
       "      <td>3.nii.gz</td>\n",
       "      <td>public-covid-data/rp_im/3.nii.gz</td>\n",
       "      <td>418.0</td>\n",
       "    </tr>\n",
       "    <tr>\n",
       "      <th>2</th>\n",
       "      <td>public-covid-data/rp_msk/2.nii.gz</td>\n",
       "      <td>2.nii.gz</td>\n",
       "      <td>public-covid-data/rp_im/2.nii.gz</td>\n",
       "      <td>39.0</td>\n",
       "    </tr>\n",
       "    <tr>\n",
       "      <th>3</th>\n",
       "      <td>public-covid-data/rp_msk/5.nii.gz</td>\n",
       "      <td>5.nii.gz</td>\n",
       "      <td>public-covid-data/rp_im/5.nii.gz</td>\n",
       "      <td>66.0</td>\n",
       "    </tr>\n",
       "    <tr>\n",
       "      <th>4</th>\n",
       "      <td>public-covid-data/rp_msk/4.nii.gz</td>\n",
       "      <td>4.nii.gz</td>\n",
       "      <td>public-covid-data/rp_im/4.nii.gz</td>\n",
       "      <td>39.0</td>\n",
       "    </tr>\n",
       "    <tr>\n",
       "      <th>5</th>\n",
       "      <td>public-covid-data/rp_msk/9.nii.gz</td>\n",
       "      <td>9.nii.gz</td>\n",
       "      <td>public-covid-data/rp_im/9.nii.gz</td>\n",
       "      <td>93.0</td>\n",
       "    </tr>\n",
       "    <tr>\n",
       "      <th>6</th>\n",
       "      <td>public-covid-data/rp_msk/1.nii.gz</td>\n",
       "      <td>1.nii.gz</td>\n",
       "      <td>public-covid-data/rp_im/1.nii.gz</td>\n",
       "      <td>45.0</td>\n",
       "    </tr>\n",
       "    <tr>\n",
       "      <th>7</th>\n",
       "      <td>public-covid-data/rp_msk/6.nii.gz</td>\n",
       "      <td>6.nii.gz</td>\n",
       "      <td>public-covid-data/rp_im/6.nii.gz</td>\n",
       "      <td>42.0</td>\n",
       "    </tr>\n",
       "    <tr>\n",
       "      <th>8</th>\n",
       "      <td>public-covid-data/rp_msk/7.nii.gz</td>\n",
       "      <td>7.nii.gz</td>\n",
       "      <td>public-covid-data/rp_im/7.nii.gz</td>\n",
       "      <td>42.0</td>\n",
       "    </tr>\n",
       "  </tbody>\n",
       "</table>\n",
       "</div>"
      ],
      "text/plain": [
       "                            path_msk  filename  \\\n",
       "0  public-covid-data/rp_msk/8.nii.gz  8.nii.gz   \n",
       "1  public-covid-data/rp_msk/3.nii.gz  3.nii.gz   \n",
       "2  public-covid-data/rp_msk/2.nii.gz  2.nii.gz   \n",
       "3  public-covid-data/rp_msk/5.nii.gz  5.nii.gz   \n",
       "4  public-covid-data/rp_msk/4.nii.gz  4.nii.gz   \n",
       "5  public-covid-data/rp_msk/9.nii.gz  9.nii.gz   \n",
       "6  public-covid-data/rp_msk/1.nii.gz  1.nii.gz   \n",
       "7  public-covid-data/rp_msk/6.nii.gz  6.nii.gz   \n",
       "8  public-covid-data/rp_msk/7.nii.gz  7.nii.gz   \n",
       "\n",
       "                            path_im  slice_num  \n",
       "0  public-covid-data/rp_im/8.nii.gz       45.0  \n",
       "1  public-covid-data/rp_im/3.nii.gz      418.0  \n",
       "2  public-covid-data/rp_im/2.nii.gz       39.0  \n",
       "3  public-covid-data/rp_im/5.nii.gz       66.0  \n",
       "4  public-covid-data/rp_im/4.nii.gz       39.0  \n",
       "5  public-covid-data/rp_im/9.nii.gz       93.0  \n",
       "6  public-covid-data/rp_im/1.nii.gz       45.0  \n",
       "7  public-covid-data/rp_im/6.nii.gz       42.0  \n",
       "8  public-covid-data/rp_im/7.nii.gz       42.0  "
      ]
     },
     "execution_count": 118,
     "metadata": {},
     "output_type": "execute_result"
    }
   ],
   "source": [
    "df"
   ]
  },
  {
   "cell_type": "code",
   "execution_count": 120,
   "metadata": {},
   "outputs": [
    {
     "name": "stderr",
     "output_type": "stream",
     "text": [
      "100%|██████████| 9/9 [00:04<00:00,  1.82it/s]\n"
     ]
    }
   ],
   "source": [
    "for idx, row in tqdm(df.iterrows(), total=len(df)):\n",
    "    data = load_nifti(row['path_im'])\n",
    "    # data shape is (z, h, w)\n",
    "    slice_num = data.shape[0]\n",
    "    df.loc[idx, 'slice_num'] = slice_num"
   ]
  },
  {
   "cell_type": "code",
   "execution_count": 123,
   "metadata": {},
   "outputs": [
    {
     "data": {
      "text/plain": [
       "<matplotlib.axes._subplots.AxesSubplot at 0x7f393c0b9ad0>"
      ]
     },
     "execution_count": 123,
     "metadata": {},
     "output_type": "execute_result"
    },
    {
     "data": {
      "image/png": "[encoded data removed]",
      "text/plain": [
       "<Figure size 432x288 with 1 Axes>"
      ]
     },
     "metadata": {
      "needs_background": "light"
     },
     "output_type": "display_data"
    }
   ],
   "source": [
    "sns.distplot(df['slice_num'])"
   ]
  },
  {
   "attachments": {},
   "cell_type": "markdown",
   "metadata": {},
   "source": [
    "## multiprocessing"
   ]
  },
  {
   "cell_type": "code",
   "execution_count": 124,
   "metadata": {},
   "outputs": [],
   "source": [
    "# インポート\n",
    "from multiprocessing import Pool, cpu_count"
   ]
  },
  {
   "attachments": {},
   "cell_type": "markdown",
   "metadata": {},
   "source": [
    "### map(func, iterable)"
   ]
  },
  {
   "cell_type": "code",
   "execution_count": 126,
   "metadata": {},
   "outputs": [
    {
     "data": {
      "text/plain": [
       "[1, 4, 9, 16]"
      ]
     },
     "execution_count": 126,
     "metadata": {},
     "output_type": "execute_result"
    }
   ],
   "source": [
    "def square(n):\n",
    "    return n ** 2\n",
    "\n",
    "params = [1, 2, 3, 4]\n",
    "# mapの戻り値はイテレータ\n",
    "list(map(square, params))"
   ]
  },
  {
   "attachments": {},
   "cell_type": "markdown",
   "metadata": {},
   "source": [
    "## p.map(func, iterable) とp.imap(func, iterable)"
   ]
  },
  {
   "cell_type": "code",
   "execution_count": 128,
   "metadata": {},
   "outputs": [
    {
     "data": {
      "text/plain": [
       "12"
      ]
     },
     "execution_count": 128,
     "metadata": {},
     "output_type": "execute_result"
    }
   ],
   "source": [
    "cpu_count()"
   ]
  },
  {
   "cell_type": "code",
   "execution_count": 133,
   "metadata": {},
   "outputs": [
    {
     "name": "stdout",
     "output_type": "stream",
     "text": [
      "it took 5.006199836730957 sec\n",
      "[1, 25, 9]\n"
     ]
    }
   ],
   "source": [
    "import time\n",
    "# pインスタンスを作成　（使用するCPUの物理コア数を指定）\n",
    "p = Pool(processes=cpu_count()-1)\n",
    "\n",
    "def wait_sec(sec):\n",
    "    time.sleep(sec)\n",
    "    return sec ** 2\n",
    "\n",
    "# p.map()関数で，並列処理\n",
    "before = time.time()\n",
    "# p.mapの戻り値はリスト\n",
    "results = p.map(wait_sec, [1, 5, 3])\n",
    "after = time.time()\n",
    "print('it took {} sec'.format(after-before))\n",
    "# multiprocessを閉じる\n",
    "p.close()\n",
    "p.join()\n",
    "print(results)"
   ]
  },
  {
   "cell_type": "code",
   "execution_count": 136,
   "metadata": {},
   "outputs": [
    {
     "name": "stdout",
     "output_type": "stream",
     "text": [
      "1: 1.0018041133880615 sec\n",
      "25: 5.006211519241333 sec\n",
      "9: 5.006397724151611 sec\n",
      "1: 5.0064756870269775 sec\n"
     ]
    }
   ],
   "source": [
    "# p.imapはイテレータを返す．\n",
    "p = Pool(processes=cpu_count()-1)\n",
    "start = time.time()\n",
    "for i in p.imap(wait_sec, [1, 5, 3, 1]):\n",
    "# imap_unorderedは処理が終わり次第返す\n",
    "# for i in p.imap_unordered(wait_sec, [1, 5, 3]):　\n",
    "    print('{}: {} sec'.format(i, time.time() - start))\n",
    "p.close()\n",
    "p.join()"
   ]
  },
  {
   "cell_type": "code",
   "execution_count": 140,
   "metadata": {},
   "outputs": [
    {
     "name": "stderr",
     "output_type": "stream",
     "text": [
      "100%|██████████| 3/3 [00:05<00:00,  1.67s/it]\n"
     ]
    }
   ],
   "source": [
    "# p.imapの戻り値はiterableなので，tqdmを使うことも可能\n",
    "p = Pool(processes=cpu_count()-1)\n",
    "results = list(tqdm(p.imap(wait_sec, [1, 5, 3]), total=3))\n",
    "p.close()\n",
    "p.join()"
   ]
  },
  {
   "cell_type": "code",
   "execution_count": 142,
   "metadata": {},
   "outputs": [
    {
     "name": "stdout",
     "output_type": "stream",
     "text": [
      "[(1, 10), (2, 30), (3, 70), (4, 20)]\n"
     ]
    },
    {
     "data": {
      "text/plain": [
       "[10, 60, 210, 80]"
      ]
     },
     "execution_count": 142,
     "metadata": {},
     "output_type": "execute_result"
    }
   ],
   "source": [
    "# 複数の引数を入れる場合はラッパー関数を作る\n",
    "# ２つの引数をとる関数\n",
    "def multiply(a, b):\n",
    "    return a * b\n",
    "\n",
    "params1 = [1, 2, 3, 4]\n",
    "params2 = [10, 30, 70, 20]\n",
    "# ラッパー関数を作る\n",
    "def wrap_multiply(args):\n",
    "    # *はunpack演算子\n",
    "    return multiply(*args)\n",
    "\n",
    "# zipでタプルのリストを作成 (イテレータを返す)\n",
    "job_args = list(zip(params1, params2))\n",
    "print(job_args)\n",
    "# 並列処理\n",
    "p = Pool(processes=cpu_count()-1)\n",
    "results = p.imap(wrap_multiply, job_args)\n",
    "p.close()\n",
    "p.join()\n",
    "list(results)"
   ]
  },
  {
   "attachments": {},
   "cell_type": "markdown",
   "metadata": {},
   "source": [
    "## Pythonスクリプトを別ファイルに保存してJupyterで読み込む"
   ]
  },
  {
   "cell_type": "code",
   "execution_count": 146,
   "metadata": {},
   "outputs": [
    {
     "name": "stdout",
     "output_type": "stream",
     "text": [
      "The autoreload extension is already loaded. To reload it, use:\n",
      "  %reload_ext autoreload\n"
     ]
    }
   ],
   "source": [
    "# 変更したモジュールが反映されるようにする\n",
    "# 'autoreload'というextensionをloadする\n",
    "%load_ext autoreload\n",
    "#　スクリプトを実行するたびに毎回reloadするように設定\n",
    "%autoreload 2\n",
    "import util\n",
    "from util import multiply"
   ]
  },
  {
   "cell_type": "code",
   "execution_count": 148,
   "metadata": {},
   "outputs": [
    {
     "name": "stdout",
     "output_type": "stream",
     "text": [
      "Multiplying 3 and 4\n"
     ]
    },
    {
     "data": {
      "text/plain": [
       "12"
      ]
     },
     "execution_count": 148,
     "metadata": {},
     "output_type": "execute_result"
    }
   ],
   "source": [
    "util.multiply(3, 4)"
   ]
  },
  {
   "cell_type": "code",
   "execution_count": 147,
   "metadata": {},
   "outputs": [
    {
     "data": {
      "text/plain": [
       "12"
      ]
     },
     "execution_count": 147,
     "metadata": {},
     "output_type": "execute_result"
    }
   ],
   "source": [
    "multiply(3, 4)"
   ]
  },
  {
   "cell_type": "code",
   "execution_count": null,
   "metadata": {},
   "outputs": [],
   "source": []
  }
 ],
 "metadata": {
  "kernelspec": {
   "display_name": "Python 3",
   "language": "python",
   "name": "python3"
  },
  "language_info": {
   "codemirror_mode": {
    "name": "ipython",
    "version": 3
   },
   "file_extension": ".py",
   "mimetype": "text/x-python",
   "name": "python",
   "nbconvert_exporter": "python",
   "pygments_lexer": "ipython3",
   "version": "3.7.6"
  }
 },
 "nbformat": 4,
 "nbformat_minor": 4
}
